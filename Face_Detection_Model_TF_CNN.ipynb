{
 "cells": [
  {
   "cell_type": "markdown",
   "id": "197b58d0",
   "metadata": {},
   "source": [
    "# GET Data and Dependencies Installation"
   ]
  },
  {
   "cell_type": "code",
   "execution_count": 50,
   "id": "7fb5549a",
   "metadata": {},
   "outputs": [
    {
     "name": "stdout",
     "output_type": "stream",
     "text": [
      "Requirement already satisfied: albumentations in c:\\programdata\\anaconda3\\lib\\site-packages (1.3.0)\n",
      "Requirement already satisfied: scipy in c:\\programdata\\anaconda3\\lib\\site-packages (from albumentations) (1.6.2)\n",
      "Requirement already satisfied: numpy>=1.11.1 in c:\\programdata\\anaconda3\\lib\\site-packages (from albumentations) (1.20.1)\n",
      "Requirement already satisfied: scikit-image>=0.16.1 in c:\\programdata\\anaconda3\\lib\\site-packages (from albumentations) (0.18.1)\n",
      "Requirement already satisfied: qudida>=0.0.4 in c:\\programdata\\anaconda3\\lib\\site-packages (from albumentations) (0.0.4)\n",
      "Requirement already satisfied: opencv-python-headless>=4.1.1 in c:\\programdata\\anaconda3\\lib\\site-packages\\opencv_python_headless-4.6.0.66-py3.8-win-amd64.egg (from albumentations) (4.6.0.66)\n",
      "Requirement already satisfied: PyYAML in c:\\programdata\\anaconda3\\lib\\site-packages (from albumentations) (5.4.1)\n",
      "Requirement already satisfied: scikit-learn>=0.19.1 in c:\\programdata\\anaconda3\\lib\\site-packages (from qudida>=0.0.4->albumentations) (1.1.2)\n",
      "Requirement already satisfied: typing-extensions in c:\\programdata\\anaconda3\\lib\\site-packages (from qudida>=0.0.4->albumentations) (3.7.4.3)\n",
      "Requirement already satisfied: matplotlib!=3.0.0,>=2.0.0 in c:\\programdata\\anaconda3\\lib\\site-packages (from scikit-image>=0.16.1->albumentations) (3.3.4)\n",
      "Requirement already satisfied: networkx>=2.0 in c:\\programdata\\anaconda3\\lib\\site-packages (from scikit-image>=0.16.1->albumentations) (2.5)\n",
      "Requirement already satisfied: pillow!=7.1.0,!=7.1.1,>=4.3.0 in c:\\programdata\\anaconda3\\lib\\site-packages (from scikit-image>=0.16.1->albumentations) (8.2.0)\n",
      "Requirement already satisfied: imageio>=2.3.0 in c:\\programdata\\anaconda3\\lib\\site-packages (from scikit-image>=0.16.1->albumentations) (2.9.0)\n",
      "Requirement already satisfied: tifffile>=2019.7.26 in c:\\programdata\\anaconda3\\lib\\site-packages (from scikit-image>=0.16.1->albumentations) (2021.4.8)\n",
      "Requirement already satisfied: PyWavelets>=1.1.1 in c:\\programdata\\anaconda3\\lib\\site-packages (from scikit-image>=0.16.1->albumentations) (1.1.1)\n",
      "Requirement already satisfied: pyparsing!=2.0.4,!=2.1.2,!=2.1.6,>=2.0.3 in c:\\programdata\\anaconda3\\lib\\site-packages (from matplotlib!=3.0.0,>=2.0.0->scikit-image>=0.16.1->albumentations) (2.4.7)\n",
      "Requirement already satisfied: kiwisolver>=1.0.1 in c:\\programdata\\anaconda3\\lib\\site-packages (from matplotlib!=3.0.0,>=2.0.0->scikit-image>=0.16.1->albumentations) (1.3.1)\n",
      "Requirement already satisfied: python-dateutil>=2.1 in c:\\programdata\\anaconda3\\lib\\site-packages (from matplotlib!=3.0.0,>=2.0.0->scikit-image>=0.16.1->albumentations) (2.8.1)\n",
      "Requirement already satisfied: cycler>=0.10 in c:\\programdata\\anaconda3\\lib\\site-packages (from matplotlib!=3.0.0,>=2.0.0->scikit-image>=0.16.1->albumentations) (0.10.0)\n",
      "Requirement already satisfied: decorator>=4.3.0 in c:\\users\\win10\\appdata\\roaming\\python\\python38\\site-packages (from networkx>=2.0->scikit-image>=0.16.1->albumentations) (4.4.2)\n",
      "Requirement already satisfied: joblib>=1.0.0 in c:\\programdata\\anaconda3\\lib\\site-packages (from scikit-learn>=0.19.1->qudida>=0.0.4->albumentations) (1.0.1)\n",
      "Requirement already satisfied: threadpoolctl>=2.0.0 in c:\\programdata\\anaconda3\\lib\\site-packages (from scikit-learn>=0.19.1->qudida>=0.0.4->albumentations) (2.1.0)\n",
      "Requirement already satisfied: six in c:\\programdata\\anaconda3\\lib\\site-packages (from cycler>=0.10->matplotlib!=3.0.0,>=2.0.0->scikit-image>=0.16.1->albumentations) (1.15.0)\n"
     ]
    }
   ],
   "source": [
    "#!pip install albumentations\n",
    "#!pip install labelme"
   ]
  },
  {
   "cell_type": "markdown",
   "id": "bc6463eb",
   "metadata": {},
   "source": [
    "# Collecting Images using OpenCV"
   ]
  },
  {
   "cell_type": "code",
   "execution_count": 1,
   "id": "76f43fe3",
   "metadata": {},
   "outputs": [],
   "source": [
    "import os\n",
    "import time\n",
    "import uuid\n",
    "import cv2"
   ]
  },
  {
   "cell_type": "code",
   "execution_count": 7,
   "id": "e846159c",
   "metadata": {},
   "outputs": [
    {
     "data": {
      "text/plain": [
       "UUID('9901296b-a3c0-11ed-8bb8-b89a2a3b592e')"
      ]
     },
     "execution_count": 7,
     "metadata": {},
     "output_type": "execute_result"
    }
   ],
   "source": [
    "uuid.uuid1()#for unique random image names"
   ]
  },
  {
   "cell_type": "code",
   "execution_count": 43,
   "id": "c48e32cf",
   "metadata": {},
   "outputs": [],
   "source": [
    "IMAGE_PATH = os.path.join('data','images') #Create Specified Path before running\n",
    "number_images =30 # no of images collected "
   ]
  },
  {
   "cell_type": "code",
   "execution_count": 44,
   "id": "0917e846",
   "metadata": {},
   "outputs": [
    {
     "name": "stdout",
     "output_type": "stream",
     "text": [
      "Collecting image 0\n",
      "Collecting image 1\n",
      "Collecting image 2\n",
      "Collecting image 3\n"
     ]
    }
   ],
   "source": [
    "#Collection of images ans saving with random  file name\n",
    "cap = cv2.VideoCapture(0)\n",
    "for imgnum in range(number_images):\n",
    "    print(\"Collecting image {}\".format(imgnum))\n",
    "    ret, frame = cap.read()\n",
    "    imgnum = os.path.join(IMAGE_PATH,f'{str(uuid.uuid1())}.jpg')\n",
    "    cv2.imwrite(imgnum,frame)\n",
    "    cv2.imshow('frame',frame)\n",
    "    time.sleep(1)\n",
    "    \n",
    "    if cv2.waitKey(1) & 0xFF == ord('q'):\n",
    "        break\n",
    "cap.release()\n",
    "cv2.destroyAllWindows()"
   ]
  },
  {
   "cell_type": "markdown",
   "id": "0e8c316b",
   "metadata": {},
   "source": [
    "# Annotate images with labelme"
   ]
  },
  {
   "cell_type": "code",
   "execution_count": 45,
   "id": "afac9f5f",
   "metadata": {},
   "outputs": [
    {
     "name": "stderr",
     "output_type": "stream",
     "text": [
      "External WM_DESTROY received for  QWidgetWindow(0x2620c372590, name=\"LabelDialogClassWindow\") , parent:  QWindow(0x0) , transient parent:  QWidgetWindow(0x2620bcc8b60, name=\"MainWindowClassWindow\")\n"
     ]
    }
   ],
   "source": [
    "# Annotation of images maually using labelme\n",
    "!labelme #to launch labelme"
   ]
  },
  {
   "cell_type": "code",
   "execution_count": 1,
   "id": "270c7ee8",
   "metadata": {},
   "outputs": [],
   "source": [
    "import tensorflow as tf\n",
    "import json\n",
    "import numpy as np\n",
    "import numpy as np\n",
    "from matplotlib import pyplot as plt"
   ]
  },
  {
   "cell_type": "code",
   "execution_count": 2,
   "id": "77c44393",
   "metadata": {},
   "outputs": [],
   "source": [
    "# To Avoid Out Of Memory errors by setting GPU Memory Consumption Growth\n",
    "gpus = tf.config.experimental.list_physical_devices('GPU')\n",
    "for gpu in gpus:\n",
    "    tf.config.experimental.set_memory_growth(gpu,True)"
   ]
  },
  {
   "cell_type": "code",
   "execution_count": 3,
   "id": "a1ba6ae7",
   "metadata": {},
   "outputs": [
    {
     "data": {
      "text/plain": [
       "[PhysicalDevice(name='/physical_device:GPU:0', device_type='GPU')]"
      ]
     },
     "execution_count": 3,
     "metadata": {},
     "output_type": "execute_result"
    }
   ],
   "source": [
    "tf.config.experimental.list_physical_devices('GPU')"
   ]
  },
  {
   "cell_type": "markdown",
   "id": "f1cdd46b",
   "metadata": {},
   "source": [
    "# Load Images into TF Data Pipeline"
   ]
  },
  {
   "cell_type": "code",
   "execution_count": 20,
   "id": "545b3886",
   "metadata": {},
   "outputs": [],
   "source": [
    "images = tf.data.Dataset.list_files('data/images/*.jpg',shuffle=False)"
   ]
  },
  {
   "cell_type": "code",
   "execution_count": 1,
   "id": "ee62dbbd",
   "metadata": {},
   "outputs": [
    {
     "ename": "NameError",
     "evalue": "name 'images' is not defined",
     "output_type": "error",
     "traceback": [
      "\u001b[1;31m---------------------------------------------------------------------------\u001b[0m",
      "\u001b[1;31mNameError\u001b[0m                                 Traceback (most recent call last)",
      "\u001b[1;32m<ipython-input-1-53f6fa5bc470>\u001b[0m in \u001b[0;36m<module>\u001b[1;34m\u001b[0m\n\u001b[1;32m----> 1\u001b[1;33m \u001b[0mimages\u001b[0m\u001b[1;33m.\u001b[0m\u001b[0mas_numpy_iterator\u001b[0m\u001b[1;33m(\u001b[0m\u001b[1;33m)\u001b[0m\u001b[1;33m.\u001b[0m\u001b[0mnext\u001b[0m\u001b[1;33m(\u001b[0m\u001b[1;33m)\u001b[0m \u001b[1;31m#to check the images are loaded into TF DataPipeline or not\u001b[0m\u001b[1;33m\u001b[0m\u001b[1;33m\u001b[0m\u001b[0m\n\u001b[0m",
      "\u001b[1;31mNameError\u001b[0m: name 'images' is not defined"
     ]
    }
   ],
   "source": [
    "images.as_numpy_iterator().next() #to check the images are loaded into TF DataPipeline or not "
   ]
  },
  {
   "cell_type": "code",
   "execution_count": 3,
   "id": "e2591663",
   "metadata": {},
   "outputs": [],
   "source": [
    "# To read the image\n",
    "def load_image(x):\n",
    "    byte_img = tf.io.read_file(x)\n",
    "    img = tf.io.decode_jpeg(byte_img)\n",
    "    return img"
   ]
  },
  {
   "cell_type": "code",
   "execution_count": 24,
   "id": "b57d5bb1",
   "metadata": {},
   "outputs": [],
   "source": [
    "images = images.map(load_image)"
   ]
  },
  {
   "cell_type": "code",
   "execution_count": 3,
   "id": "eb580901",
   "metadata": {},
   "outputs": [],
   "source": [
    "images.as_numpy_iterator().next()"
   ]
  },
  {
   "cell_type": "code",
   "execution_count": 38,
   "id": "2df8670d",
   "metadata": {},
   "outputs": [
    {
     "data": {
      "text/plain": [
       "tensorflow.python.data.ops.dataset_ops.MapDataset"
      ]
     },
     "execution_count": 38,
     "metadata": {},
     "output_type": "execute_result"
    }
   ],
   "source": [
    "type(images)"
   ]
  },
  {
   "cell_type": "code",
   "execution_count": 90,
   "id": "62670f36",
   "metadata": {},
   "outputs": [],
   "source": [
    "plt.style.use('dark_background')"
   ]
  },
  {
   "cell_type": "code",
   "execution_count": 40,
   "id": "d49daf0b",
   "metadata": {},
   "outputs": [],
   "source": [
    "image_geneator = images.batch(4).as_numpy_iterator()#to Bacth the images to Visualize"
   ]
  },
  {
   "cell_type": "code",
   "execution_count": 41,
   "id": "0b5f96b4",
   "metadata": {},
   "outputs": [],
   "source": [
    "plot_images = image_geneator.next()# to generate new batch each time"
   ]
  },
  {
   "cell_type": "code",
   "execution_count": 1,
   "id": "f28dd323",
   "metadata": {},
   "outputs": [],
   "source": [
    "fig, ax = plt.subplots(ncols=4,figsize=(20,20))# Visualize the Imgaes\n",
    "for idx,image in enumerate(plot_images):\n",
    "    ax[idx].imshow(image)\n",
    "plt.show()"
   ]
  },
  {
   "cell_type": "markdown",
   "id": "e7298a70",
   "metadata": {},
   "source": [
    "# Partition unaugumented Data"
   ]
  },
  {
   "cell_type": "markdown",
   "id": "c5618b5e",
   "metadata": {},
   "source": [
    "### Manually Split the data into train,test and val"
   ]
  },
  {
   "cell_type": "code",
   "execution_count": 2,
   "id": "4e984a2e",
   "metadata": {},
   "outputs": [],
   "source": [
    "for folder in ['train','test','val']:\n",
    "    for file in os.listdir(os.path.join('data',folder,'images')):\n",
    "        filename = file.split('.')[0]+'.json'\n",
    "        existing_filepath = os.path.join('data','labels',filename)\n",
    "        if os.path.exists(existing_filepath):\n",
    "            new_filepath = os.path.join('data',folder,'labels',filename)\n",
    "            os.replace(existing_filepath,new_filepath)"
   ]
  },
  {
   "cell_type": "markdown",
   "id": "571d3c1d",
   "metadata": {},
   "source": [
    "# Image Augumentation on Images and Labels using Albumentsions"
   ]
  },
  {
   "cell_type": "code",
   "execution_count": 14,
   "id": "71e6dae5",
   "metadata": {},
   "outputs": [],
   "source": [
    "import albumentations as alb\n",
    "#import cv2\n",
    "#import json"
   ]
  },
  {
   "cell_type": "code",
   "execution_count": 3,
   "id": "d6bbb689",
   "metadata": {},
   "outputs": [],
   "source": [
    "augemntor = alb.Compose([alb.RandomCrop(width=450,height = 450),\n",
    "                        alb.HorizontalFlip(p=0.5),\n",
    "                        alb.RandomBrightnessContrast(p=0.2),\n",
    "                        alb.RandomGamma(p=0.2),\n",
    "                        alb.RGBShift(p=0.2),\n",
    "                        alb.VerticalFlip(p=0.5)],\n",
    "                        bbox_params=alb.BboxParams(format='albumentations',\n",
    "                                                  label_fields=['class_labels']))"
   ]
  },
  {
   "cell_type": "code",
   "execution_count": 10,
   "id": "2864686d",
   "metadata": {},
   "outputs": [],
   "source": [
    "img = cv2.imread(os.path.join('data','train','images','6e1c35f4-a3cc-11ed-8b1c-b89a2a3b592e.jpg'))"
   ]
  },
  {
   "cell_type": "code",
   "execution_count": 21,
   "id": "34aabfb8",
   "metadata": {},
   "outputs": [
    {
     "data": {
      "text/plain": [
       "(480, 640, 3)"
      ]
     },
     "execution_count": 21,
     "metadata": {},
     "output_type": "execute_result"
    }
   ],
   "source": [
    "img.shape"
   ]
  },
  {
   "cell_type": "code",
   "execution_count": 15,
   "id": "763f0e27",
   "metadata": {},
   "outputs": [],
   "source": [
    "with open(os.path.join('data','train','labels','6e1c35f4-a3cc-11ed-8b1c-b89a2a3b592e.json'),'r') as f:\n",
    "    labels=json.load(f)"
   ]
  },
  {
   "cell_type": "code",
   "execution_count": 18,
   "id": "cf9ef876",
   "metadata": {},
   "outputs": [
    {
     "data": {
      "text/plain": [
       "[[245.62189054726372, 56.91542288557215],\n",
       " [432.6865671641791, 336.0199004975124]]"
      ]
     },
     "execution_count": 18,
     "metadata": {},
     "output_type": "execute_result"
    }
   ],
   "source": [
    "labels['shapes'][0]['points']"
   ]
  },
  {
   "cell_type": "code",
   "execution_count": 19,
   "id": "815cb979",
   "metadata": {},
   "outputs": [],
   "source": [
    "cords = [0,0,0,0]\n",
    "cords[0] = labels['shapes'][0]['points'][0][0]\n",
    "cords[1] = labels['shapes'][0]['points'][0][1]\n",
    "cords[2] = labels['shapes'][0]['points'][1][0]\n",
    "cords[3] = labels['shapes'][0]['points'][1][1]"
   ]
  },
  {
   "cell_type": "code",
   "execution_count": 20,
   "id": "72f06002",
   "metadata": {},
   "outputs": [
    {
     "data": {
      "text/plain": [
       "[245.62189054726372, 56.91542288557215, 432.6865671641791, 336.0199004975124]"
      ]
     },
     "execution_count": 20,
     "metadata": {},
     "output_type": "execute_result"
    }
   ],
   "source": [
    "cords"
   ]
  },
  {
   "cell_type": "code",
   "execution_count": 24,
   "id": "180ad2ed",
   "metadata": {},
   "outputs": [],
   "source": [
    "cords = list(np.divide(cords,[640,480,640,480]))"
   ]
  },
  {
   "cell_type": "code",
   "execution_count": 25,
   "id": "bc0030df",
   "metadata": {},
   "outputs": [],
   "source": [
    "augmented = augemntor(image=img,bboxes=[cords],class_labels=['face'])"
   ]
  },
  {
   "cell_type": "code",
   "execution_count": 4,
   "id": "a9e7fa32",
   "metadata": {},
   "outputs": [],
   "source": [
    "augmented"
   ]
  },
  {
   "cell_type": "code",
   "execution_count": 5,
   "id": "483a497c",
   "metadata": {},
   "outputs": [],
   "source": [
    "cv2.rectangle(augmented['image'],\n",
    "             tuple(np.multiply(augmented['bboxes'][0][:2],[450,450]).astype(int)),\n",
    "             tuple(np.multiply(augmented['bboxes'][0][2:],[450,450]).astype(int)),\n",
    "            (225,0,0),2)\n",
    "plt.imshow(augmented['image'])"
   ]
  },
  {
   "cell_type": "code",
   "execution_count": 32,
   "id": "325e031b",
   "metadata": {},
   "outputs": [],
   "source": [
    "for partition in ['train','test','val']: \n",
    "    for image in os.listdir(os.path.join('data', partition, 'images')):\n",
    "        img = cv2.imread(os.path.join('data', partition, 'images', image))\n",
    "\n",
    "        coords = [0,0,0.00001,0.00001]\n",
    "        label_path = os.path.join('data', partition, 'labels', f'{image.split(\".\")[0]}.json')\n",
    "        if os.path.exists(label_path):\n",
    "            with open(label_path, 'r') as f:\n",
    "                label = json.load(f)\n",
    "\n",
    "            coords[0] = label['shapes'][0]['points'][0][0]\n",
    "            coords[1] = label['shapes'][0]['points'][0][1]\n",
    "            coords[2] = label['shapes'][0]['points'][1][0]\n",
    "            coords[3] = label['shapes'][0]['points'][1][1]\n",
    "            coords = list(np.divide(coords, [640,480,640,480]))\n",
    "\n",
    "        try: \n",
    "            for x in range(60):\n",
    "                augmented = augemntor(image=img, bboxes=[coords], class_labels=['face'])\n",
    "                cv2.imwrite(os.path.join('aug_data', partition, 'images', f'{image.split(\".\")[0]}.{x}.jpg'), augmented['image'])\n",
    "\n",
    "                annotation = {}\n",
    "                annotation['image'] = image\n",
    "\n",
    "                if os.path.exists(label_path):\n",
    "                    if len(augmented['bboxes']) == 0: \n",
    "                        annotation['bbox'] = [0,0,0,0]\n",
    "                        annotation['class'] = 0 \n",
    "                    else: \n",
    "                        annotation['bbox'] = augmented['bboxes'][0]\n",
    "                        annotation['class'] = 1\n",
    "                else: \n",
    "                    annotation['bbox'] = [0,0,0,0]\n",
    "                    annotation['class'] = 0 \n",
    "\n",
    "\n",
    "                with open(os.path.join('aug_data', partition, 'labels', f'{image.split(\".\")[0]}.{x}.json'), 'w') as f:\n",
    "                    json.dump(annotation, f)\n",
    "\n",
    "        except Exception as e:\n",
    "            print(e)"
   ]
  },
  {
   "cell_type": "markdown",
   "id": "23e6c55f",
   "metadata": {},
   "source": [
    "# Load Augmented Data to TF Dataset"
   ]
  },
  {
   "cell_type": "code",
   "execution_count": 5,
   "id": "75e2dc9a",
   "metadata": {},
   "outputs": [],
   "source": [
    "train_images = tf.data.Dataset.list_files('aug_data/train/images/*.jpg',shuffle=False)\n",
    "train_images = train_images.map(load_image)\n",
    "train_images = train_images.map(lambda x: tf.image.resize(x,(120,120)))\n",
    "train_images = train_images.map(lambda x: x/255)"
   ]
  },
  {
   "cell_type": "code",
   "execution_count": 6,
   "id": "0e72c099",
   "metadata": {},
   "outputs": [],
   "source": [
    "test_images = tf.data.Dataset.list_files('aug_data/test/images/*.jpg',shuffle=False)\n",
    "test_images = test_images.map(load_image)\n",
    "test_images = test_images.map(lambda x: tf.image.resize(x,(120,120)))\n",
    "test_images = test_images.map(lambda x: x/255)"
   ]
  },
  {
   "cell_type": "code",
   "execution_count": 7,
   "id": "aa588cd0",
   "metadata": {},
   "outputs": [],
   "source": [
    "val_images = tf.data.Dataset.list_files('aug_data/val/images/*.jpg',shuffle=False)\n",
    "val_images = val_images.map(load_image)\n",
    "val_images = val_images.map(lambda x: tf.image.resize(x,(120,120)))\n",
    "val_images = val_images.map(lambda x: x/255)"
   ]
  },
  {
   "cell_type": "code",
   "execution_count": 6,
   "id": "7ba90304",
   "metadata": {},
   "outputs": [],
   "source": [
    "train_images.as_numpy_iterator().next()"
   ]
  },
  {
   "cell_type": "code",
   "execution_count": 15,
   "id": "89412d37",
   "metadata": {},
   "outputs": [],
   "source": [
    "def load_labels(label_path):\n",
    "    with open(label_path.numpy(),'r',encoding=\"utf-8\") as f:\n",
    "        label = json.load(f)\n",
    "    return [label['class']],label['bbox']"
   ]
  },
  {
   "cell_type": "code",
   "execution_count": 16,
   "id": "d3e81431",
   "metadata": {},
   "outputs": [],
   "source": [
    "train_labels = tf.data.Dataset.list_files('aug_data/train/labels/*.json',shuffle=False)\n",
    "train_labels = train_labels.map(lambda x: tf.py_function(load_labels,[x],[tf.uint8,tf.float16]))"
   ]
  },
  {
   "cell_type": "code",
   "execution_count": 17,
   "id": "b3dc638e",
   "metadata": {},
   "outputs": [],
   "source": [
    "test_labels = tf.data.Dataset.list_files('aug_data/test/labels/*.json',shuffle=False)\n",
    "test_labels = test_labels.map(lambda x: tf.py_function(load_labels,[x],[tf.uint8,tf.float16]))"
   ]
  },
  {
   "cell_type": "code",
   "execution_count": 18,
   "id": "3d7f2da0",
   "metadata": {},
   "outputs": [],
   "source": [
    "val_labels = tf.data.Dataset.list_files('aug_data/val/labels/*.json',shuffle=False)\n",
    "val_labels = val_labels.map(lambda x: tf.py_function(load_labels,[x],[tf.uint8,tf.float16]))"
   ]
  },
  {
   "cell_type": "code",
   "execution_count": 19,
   "id": "edb4c43a",
   "metadata": {},
   "outputs": [
    {
     "data": {
      "text/plain": [
       "(array([1], dtype=uint8),\n",
       " array([0.3896, 0.3088, 0.805 , 0.929 ], dtype=float16))"
      ]
     },
     "execution_count": 19,
     "metadata": {},
     "output_type": "execute_result"
    }
   ],
   "source": [
    "train_labels.as_numpy_iterator().next()"
   ]
  },
  {
   "cell_type": "code",
   "execution_count": 20,
   "id": "e1bfbd69",
   "metadata": {},
   "outputs": [
    {
     "data": {
      "text/plain": [
       "(3780, 3780, 840, 840, 780, 780)"
      ]
     },
     "execution_count": 20,
     "metadata": {},
     "output_type": "execute_result"
    }
   ],
   "source": [
    "len(train_images),len(train_labels),len(test_images),len(test_labels),len(val_images),len(val_labels)"
   ]
  },
  {
   "cell_type": "code",
   "execution_count": 21,
   "id": "ba05acfa",
   "metadata": {},
   "outputs": [],
   "source": [
    "train = tf.data.Dataset.zip((train_images,train_labels))\n",
    "train = train.shuffle(5000)\n",
    "train = train.batch(8)\n",
    "train = train.prefetch(4)"
   ]
  },
  {
   "cell_type": "code",
   "execution_count": 22,
   "id": "248616cb",
   "metadata": {},
   "outputs": [],
   "source": [
    "test = tf.data.Dataset.zip((test_images,test_labels))\n",
    "test = test.shuffle(5000)\n",
    "test = test.batch(8)\n",
    "test = test.prefetch(4)"
   ]
  },
  {
   "cell_type": "code",
   "execution_count": 23,
   "id": "006f812b",
   "metadata": {},
   "outputs": [],
   "source": [
    "val = tf.data.Dataset.zip((val_images,val_labels))\n",
    "val = val.shuffle(5000)\n",
    "val = val.batch(8)\n",
    "val = val.prefetch(4)"
   ]
  },
  {
   "cell_type": "code",
   "execution_count": 26,
   "id": "c455c640",
   "metadata": {},
   "outputs": [
    {
     "data": {
      "text/plain": [
       "(8, 120, 120, 3)"
      ]
     },
     "execution_count": 26,
     "metadata": {},
     "output_type": "execute_result"
    }
   ],
   "source": [
    "train.as_numpy_iterator().next()[0].shape"
   ]
  },
  {
   "cell_type": "code",
   "execution_count": 34,
   "id": "28af38e1",
   "metadata": {},
   "outputs": [],
   "source": [
    "data_sample = train.as_numpy_iterator()"
   ]
  },
  {
   "cell_type": "code",
   "execution_count": 44,
   "id": "80b564c8",
   "metadata": {},
   "outputs": [],
   "source": [
    "res = data_sample.next()"
   ]
  },
  {
   "cell_type": "code",
   "execution_count": 7,
   "id": "88676f9f",
   "metadata": {},
   "outputs": [],
   "source": [
    "fig, ax = plt.subplots(ncols=4,figsize=(20,20))\n",
    "for idx in range(4):\n",
    "    sample_image = res[0][idx]\n",
    "    sample_coords = res[1][1][idx]\n",
    "    \n",
    "    cv2.rectangle(sample_image,\n",
    "             tuple(np.multiply(sample_coords[:2],[120,120]).astype(int)),\n",
    "             tuple(np.multiply(sample_coords[2:],[120,120]).astype(int)),\n",
    "            (225,0,0),2)\n",
    "    ax[idx].imshow(sample_image)"
   ]
  },
  {
   "cell_type": "markdown",
   "id": "414d144b",
   "metadata": {},
   "source": [
    "# DataSet Done"
   ]
  },
  {
   "cell_type": "code",
   "execution_count": 51,
   "id": "382e84d2",
   "metadata": {},
   "outputs": [],
   "source": [
    "from tensorflow.keras.models import Model\n",
    "from tensorflow.keras.layers import Input,Conv2D, MaxPooling2D,Dense,GlobalMaxPooling2D\n",
    "from tensorflow.keras.applications import VGG16"
   ]
  },
  {
   "cell_type": "code",
   "execution_count": 52,
   "id": "cd9ccf24",
   "metadata": {},
   "outputs": [
    {
     "name": "stdout",
     "output_type": "stream",
     "text": [
      "Downloading data from https://storage.googleapis.com/tensorflow/keras-applications/vgg16/vgg16_weights_tf_dim_ordering_tf_kernels_notop.h5\n",
      "58889256/58889256 [==============================] - 8s 0us/step\n"
     ]
    }
   ],
   "source": [
    "vgg = VGG16(include_top=False)"
   ]
  },
  {
   "cell_type": "code",
   "execution_count": 53,
   "id": "5064cd4d",
   "metadata": {},
   "outputs": [
    {
     "name": "stdout",
     "output_type": "stream",
     "text": [
      "Model: \"vgg16\"\n",
      "_________________________________________________________________\n",
      " Layer (type)                Output Shape              Param #   \n",
      "=================================================================\n",
      " input_1 (InputLayer)        [(None, None, None, 3)]   0         \n",
      "                                                                 \n",
      " block1_conv1 (Conv2D)       (None, None, None, 64)    1792      \n",
      "                                                                 \n",
      " block1_conv2 (Conv2D)       (None, None, None, 64)    36928     \n",
      "                                                                 \n",
      " block1_pool (MaxPooling2D)  (None, None, None, 64)    0         \n",
      "                                                                 \n",
      " block2_conv1 (Conv2D)       (None, None, None, 128)   73856     \n",
      "                                                                 \n",
      " block2_conv2 (Conv2D)       (None, None, None, 128)   147584    \n",
      "                                                                 \n",
      " block2_pool (MaxPooling2D)  (None, None, None, 128)   0         \n",
      "                                                                 \n",
      " block3_conv1 (Conv2D)       (None, None, None, 256)   295168    \n",
      "                                                                 \n",
      " block3_conv2 (Conv2D)       (None, None, None, 256)   590080    \n",
      "                                                                 \n",
      " block3_conv3 (Conv2D)       (None, None, None, 256)   590080    \n",
      "                                                                 \n",
      " block3_pool (MaxPooling2D)  (None, None, None, 256)   0         \n",
      "                                                                 \n",
      " block4_conv1 (Conv2D)       (None, None, None, 512)   1180160   \n",
      "                                                                 \n",
      " block4_conv2 (Conv2D)       (None, None, None, 512)   2359808   \n",
      "                                                                 \n",
      " block4_conv3 (Conv2D)       (None, None, None, 512)   2359808   \n",
      "                                                                 \n",
      " block4_pool (MaxPooling2D)  (None, None, None, 512)   0         \n",
      "                                                                 \n",
      " block5_conv1 (Conv2D)       (None, None, None, 512)   2359808   \n",
      "                                                                 \n",
      " block5_conv2 (Conv2D)       (None, None, None, 512)   2359808   \n",
      "                                                                 \n",
      " block5_conv3 (Conv2D)       (None, None, None, 512)   2359808   \n",
      "                                                                 \n",
      " block5_pool (MaxPooling2D)  (None, None, None, 512)   0         \n",
      "                                                                 \n",
      "=================================================================\n",
      "Total params: 14,714,688\n",
      "Trainable params: 14,714,688\n",
      "Non-trainable params: 0\n",
      "_________________________________________________________________\n"
     ]
    }
   ],
   "source": [
    "vgg.summary()"
   ]
  },
  {
   "cell_type": "code",
   "execution_count": 60,
   "id": "737b1b16",
   "metadata": {},
   "outputs": [],
   "source": [
    "def build_model():\n",
    "    input_layer = Input(shape=(120,120,3))\n",
    "    vgg = VGG16(include_top=False)(input_layer)\n",
    "    \n",
    "    f1 = GlobalMaxPooling2D()(vgg)\n",
    "    class1 = Dense(2048,activation='relu')(f1)\n",
    "    class2 = Dense(1,activation='sigmoid')(class1)\n",
    "    \n",
    "    f2 = GlobalMaxPooling2D()(vgg)\n",
    "    regress1 = Dense(2048,activation='relu')(f2)\n",
    "    regress2 = Dense(4,activation='sigmoid')(regress1)\n",
    "    \n",
    "    facetraceker = Model(inputs=input_layer,outputs=[class2,regress2])\n",
    "    return facetraceker"
   ]
  },
  {
   "cell_type": "code",
   "execution_count": 56,
   "id": "3ffccae5",
   "metadata": {},
   "outputs": [
    {
     "data": {
      "text/plain": [
       "(array([[1],\n",
       "        [1],\n",
       "        [1],\n",
       "        [0],\n",
       "        [1],\n",
       "        [1],\n",
       "        [1],\n",
       "        [1]], dtype=uint8),\n",
       " array([[0.45   , 0.1716 , 0.773  , 0.703  ],\n",
       "        [0.06934, 0.2522 , 0.392  , 0.784  ],\n",
       "        [0.4028 , 0.3562 , 0.761  , 0.899  ],\n",
       "        [0.     , 0.     , 0.     , 0.     ],\n",
       "        [0.1082 , 0.     , 0.42   , 0.4192 ],\n",
       "        [0.1426 , 0.1738 , 0.4963 , 0.702  ],\n",
       "        [0.     , 0.1183 , 0.2423 , 0.646  ],\n",
       "        [0.3142 , 0.1763 , 0.598  , 0.5933 ]], dtype=float16))"
      ]
     },
     "execution_count": 56,
     "metadata": {},
     "output_type": "execute_result"
    }
   ],
   "source": [
    "train.as_numpy_iterator().next()[1]"
   ]
  },
  {
   "cell_type": "code",
   "execution_count": 61,
   "id": "c8f6827c",
   "metadata": {},
   "outputs": [],
   "source": [
    "facetracker = build_model()"
   ]
  },
  {
   "cell_type": "code",
   "execution_count": 62,
   "id": "1c083efb",
   "metadata": {},
   "outputs": [
    {
     "name": "stdout",
     "output_type": "stream",
     "text": [
      "Model: \"model\"\n",
      "__________________________________________________________________________________________________\n",
      " Layer (type)                   Output Shape         Param #     Connected to                     \n",
      "==================================================================================================\n",
      " input_6 (InputLayer)           [(None, 120, 120, 3  0           []                               \n",
      "                                )]                                                                \n",
      "                                                                                                  \n",
      " vgg16 (Functional)             (None, None, None,   14714688    ['input_6[0][0]']                \n",
      "                                512)                                                              \n",
      "                                                                                                  \n",
      " global_max_pooling2d_4 (Global  (None, 512)         0           ['vgg16[0][0]']                  \n",
      " MaxPooling2D)                                                                                    \n",
      "                                                                                                  \n",
      " global_max_pooling2d_5 (Global  (None, 512)         0           ['vgg16[0][0]']                  \n",
      " MaxPooling2D)                                                                                    \n",
      "                                                                                                  \n",
      " dense_8 (Dense)                (None, 2048)         1050624     ['global_max_pooling2d_4[0][0]'] \n",
      "                                                                                                  \n",
      " dense_10 (Dense)               (None, 2048)         1050624     ['global_max_pooling2d_5[0][0]'] \n",
      "                                                                                                  \n",
      " dense_9 (Dense)                (None, 1)            2049        ['dense_8[0][0]']                \n",
      "                                                                                                  \n",
      " dense_11 (Dense)               (None, 4)            8196        ['dense_10[0][0]']               \n",
      "                                                                                                  \n",
      "==================================================================================================\n",
      "Total params: 16,826,181\n",
      "Trainable params: 16,826,181\n",
      "Non-trainable params: 0\n",
      "__________________________________________________________________________________________________\n"
     ]
    }
   ],
   "source": [
    "facetracker.summary()"
   ]
  },
  {
   "cell_type": "code",
   "execution_count": 63,
   "id": "8adb0af1",
   "metadata": {},
   "outputs": [],
   "source": [
    "X,y = train.as_numpy_iterator().next()"
   ]
  },
  {
   "cell_type": "code",
   "execution_count": 64,
   "id": "c89ff04c",
   "metadata": {},
   "outputs": [
    {
     "data": {
      "text/plain": [
       "(8, 120, 120, 3)"
      ]
     },
     "execution_count": 64,
     "metadata": {},
     "output_type": "execute_result"
    }
   ],
   "source": [
    "X.shape"
   ]
  },
  {
   "cell_type": "code",
   "execution_count": 65,
   "id": "03204b73",
   "metadata": {},
   "outputs": [
    {
     "name": "stdout",
     "output_type": "stream",
     "text": [
      "1/1 [==============================] - 11s 11s/step\n"
     ]
    }
   ],
   "source": [
    "classes,coords = facetracker.predict(X)"
   ]
  },
  {
   "cell_type": "code",
   "execution_count": 66,
   "id": "edad285d",
   "metadata": {},
   "outputs": [
    {
     "data": {
      "text/plain": [
       "(array([[0.6259827 ],\n",
       "        [0.5655438 ],\n",
       "        [0.4875559 ],\n",
       "        [0.5614357 ],\n",
       "        [0.5435158 ],\n",
       "        [0.508376  ],\n",
       "        [0.49812776],\n",
       "        [0.49312785]], dtype=float32),\n",
       " array([[0.47765437, 0.3566393 , 0.6688724 , 0.47754717],\n",
       "        [0.48655382, 0.35016719, 0.58746797, 0.42545885],\n",
       "        [0.46498033, 0.5044519 , 0.7001665 , 0.37849224],\n",
       "        [0.49110606, 0.4276948 , 0.71034276, 0.4090418 ],\n",
       "        [0.47681537, 0.3935426 , 0.70594364, 0.47499365],\n",
       "        [0.47160044, 0.46389845, 0.6655756 , 0.45223108],\n",
       "        [0.4440068 , 0.39570346, 0.6911089 , 0.512267  ],\n",
       "        [0.43711266, 0.4114664 , 0.69703305, 0.4691106 ]], dtype=float32))"
      ]
     },
     "execution_count": 66,
     "metadata": {},
     "output_type": "execute_result"
    }
   ],
   "source": [
    "classes,coords"
   ]
  },
  {
   "cell_type": "code",
   "execution_count": 71,
   "id": "50357354",
   "metadata": {},
   "outputs": [],
   "source": [
    "batch_per_epoch = len(train)\n",
    "lr_decay = (1./0.75 -1)/batch_per_epoch"
   ]
  },
  {
   "cell_type": "code",
   "execution_count": 72,
   "id": "a6aa6cbb",
   "metadata": {},
   "outputs": [],
   "source": [
    "opt = tf.keras.optimizers.Adam(learning_rate=0.0001, decay=lr_decay)"
   ]
  },
  {
   "cell_type": "code",
   "execution_count": 73,
   "id": "b800c8db",
   "metadata": {},
   "outputs": [],
   "source": [
    "def localization_loss(y_true, yhat):            \n",
    "    delta_coord = tf.reduce_sum(tf.square(y_true[:,:2] - yhat[:,:2]))\n",
    "                  \n",
    "    h_true = y_true[:,3] - y_true[:,1] \n",
    "    w_true = y_true[:,2] - y_true[:,0] \n",
    "\n",
    "    h_pred = yhat[:,3] - yhat[:,1] \n",
    "    w_pred = yhat[:,2] - yhat[:,0] \n",
    "    \n",
    "    delta_size = tf.reduce_sum(tf.square(w_true - w_pred) + tf.square(h_true-h_pred))\n",
    "    \n",
    "    return delta_coord + delta_size"
   ]
  },
  {
   "cell_type": "code",
   "execution_count": 74,
   "id": "eb7e68f3",
   "metadata": {},
   "outputs": [],
   "source": [
    "classloss = tf.keras.losses.BinaryCrossentropy()\n",
    "regressloss = localization_loss"
   ]
  },
  {
   "cell_type": "code",
   "execution_count": 75,
   "id": "42a3b7cf",
   "metadata": {},
   "outputs": [
    {
     "data": {
      "text/plain": [
       "<tf.Tensor: shape=(), dtype=float32, numpy=3.5897815>"
      ]
     },
     "execution_count": 75,
     "metadata": {},
     "output_type": "execute_result"
    }
   ],
   "source": [
    "localization_loss(y[1],coords)"
   ]
  },
  {
   "cell_type": "code",
   "execution_count": 76,
   "id": "184910d8",
   "metadata": {},
   "outputs": [
    {
     "data": {
      "text/plain": [
       "<tf.Tensor: shape=(), dtype=float32, numpy=0.6609769>"
      ]
     },
     "execution_count": 76,
     "metadata": {},
     "output_type": "execute_result"
    }
   ],
   "source": [
    "classloss(y[0],classes)"
   ]
  },
  {
   "cell_type": "code",
   "execution_count": 77,
   "id": "96a99bdf",
   "metadata": {},
   "outputs": [
    {
     "data": {
      "text/plain": [
       "<tf.Tensor: shape=(), dtype=float32, numpy=3.5897815>"
      ]
     },
     "execution_count": 77,
     "metadata": {},
     "output_type": "execute_result"
    }
   ],
   "source": [
    "regressloss(y[1],coords)"
   ]
  },
  {
   "cell_type": "code",
   "execution_count": 78,
   "id": "4312e418",
   "metadata": {},
   "outputs": [],
   "source": [
    "class FaceTracker(Model): \n",
    "    def __init__(self, facetracker,  **kwargs): \n",
    "        super().__init__(**kwargs)\n",
    "        self.model = facetracker\n",
    "\n",
    "    def compile(self, opt, classloss, localizationloss, **kwargs):\n",
    "        super().compile(**kwargs)\n",
    "        self.closs = classloss\n",
    "        self.lloss = localizationloss\n",
    "        self.opt = opt\n",
    "    \n",
    "    def train_step(self, batch, **kwargs): \n",
    "        \n",
    "        X, y = batch\n",
    "        \n",
    "        with tf.GradientTape() as tape: \n",
    "            classes, coords = self.model(X, training=True)\n",
    "            \n",
    "            batch_classloss = self.closs(y[0], classes)\n",
    "            batch_localizationloss = self.lloss(tf.cast(y[1], tf.float32), coords)\n",
    "            \n",
    "            total_loss = batch_localizationloss+0.5*batch_classloss\n",
    "            \n",
    "            grad = tape.gradient(total_loss, self.model.trainable_variables)\n",
    "        \n",
    "        opt.apply_gradients(zip(grad, self.model.trainable_variables))\n",
    "        \n",
    "        return {\"total_loss\":total_loss, \"class_loss\":batch_classloss, \"regress_loss\":batch_localizationloss}\n",
    "    \n",
    "    def test_step(self, batch, **kwargs): \n",
    "        X, y = batch\n",
    "        \n",
    "        classes, coords = self.model(X, training=False)\n",
    "        \n",
    "        batch_classloss = self.closs(y[0], classes)\n",
    "        batch_localizationloss = self.lloss(tf.cast(y[1], tf.float32), coords)\n",
    "        total_loss = batch_localizationloss+0.5*batch_classloss\n",
    "        \n",
    "        return {\"total_loss\":total_loss, \"class_loss\":batch_classloss, \"regress_loss\":batch_localizationloss}\n",
    "        \n",
    "    def call(self, X, **kwargs): \n",
    "        return self.model(X, **kwargs)"
   ]
  },
  {
   "cell_type": "code",
   "execution_count": 79,
   "id": "9a7b82b8",
   "metadata": {},
   "outputs": [],
   "source": [
    "model = FaceTracker(facetracker)"
   ]
  },
  {
   "cell_type": "code",
   "execution_count": 80,
   "id": "d272b27f",
   "metadata": {},
   "outputs": [],
   "source": [
    "model.compile(opt, classloss, regressloss)"
   ]
  },
  {
   "cell_type": "code",
   "execution_count": 81,
   "id": "6199e954",
   "metadata": {},
   "outputs": [],
   "source": [
    "logdir='logs'"
   ]
  },
  {
   "cell_type": "code",
   "execution_count": 82,
   "id": "b214f20c",
   "metadata": {},
   "outputs": [],
   "source": [
    "tensorboard_callback = tf.keras.callbacks.TensorBoard(log_dir=logdir)"
   ]
  },
  {
   "cell_type": "code",
   "execution_count": 83,
   "id": "f37249d5",
   "metadata": {},
   "outputs": [
    {
     "name": "stdout",
     "output_type": "stream",
     "text": [
      "Epoch 1/10\n",
      "473/473 [==============================] - 136s 163ms/step - total_loss: 0.4310 - class_loss: 0.0970 - regress_loss: 0.3825 - val_total_loss: 0.0274 - val_class_loss: 9.8033e-05 - val_regress_loss: 0.0273\n",
      "Epoch 2/10\n",
      "473/473 [==============================] - 61s 119ms/step - total_loss: 0.1399 - class_loss: 0.0363 - regress_loss: 0.1217 - val_total_loss: 0.0177 - val_class_loss: 1.8538e-05 - val_regress_loss: 0.0176\n",
      "Epoch 3/10\n",
      "473/473 [==============================] - 63s 122ms/step - total_loss: 0.0777 - class_loss: 0.0266 - regress_loss: 0.0644 - val_total_loss: 0.0045 - val_class_loss: 6.0048e-04 - val_regress_loss: 0.0042\n",
      "Epoch 4/10\n",
      "473/473 [==============================] - 62s 120ms/step - total_loss: 0.0650 - class_loss: 0.0196 - regress_loss: 0.0552 - val_total_loss: 0.0094 - val_class_loss: 3.5979e-04 - val_regress_loss: 0.0092\n",
      "Epoch 5/10\n",
      "473/473 [==============================] - 62s 119ms/step - total_loss: 0.0318 - class_loss: 0.0091 - regress_loss: 0.0272 - val_total_loss: 1.6337 - val_class_loss: 2.1921 - val_regress_loss: 0.5376\n",
      "Epoch 6/10\n",
      "473/473 [==============================] - 66s 124ms/step - total_loss: 0.0366 - class_loss: 0.0113 - regress_loss: 0.0309 - val_total_loss: 0.0088 - val_class_loss: 0.0034 - val_regress_loss: 0.0071\n",
      "Epoch 7/10\n",
      "473/473 [==============================] - 63s 124ms/step - total_loss: 0.0347 - class_loss: 0.0086 - regress_loss: 0.0304 - val_total_loss: 1.7707 - val_class_loss: 2.3148 - val_regress_loss: 0.6134\n",
      "Epoch 8/10\n",
      "473/473 [==============================] - 62s 121ms/step - total_loss: 0.0259 - class_loss: 0.0071 - regress_loss: 0.0223 - val_total_loss: 0.0026 - val_class_loss: 2.8700e-05 - val_regress_loss: 0.0026\n",
      "Epoch 9/10\n",
      "473/473 [==============================] - 62s 121ms/step - total_loss: 0.0218 - class_loss: 0.0048 - regress_loss: 0.0194 - val_total_loss: 0.0027 - val_class_loss: 8.4435e-05 - val_regress_loss: 0.0027\n",
      "Epoch 10/10\n",
      "473/473 [==============================] - 62s 122ms/step - total_loss: 0.0162 - class_loss: 0.0061 - regress_loss: 0.0132 - val_total_loss: 1.8192 - val_class_loss: 2.1537 - val_regress_loss: 0.7423\n"
     ]
    }
   ],
   "source": [
    "hist = model.fit(train, epochs=10, validation_data=val, callbacks=[tensorboard_callback])"
   ]
  },
  {
   "cell_type": "code",
   "execution_count": 84,
   "id": "4541359b",
   "metadata": {},
   "outputs": [
    {
     "data": {
      "text/plain": [
       "{'total_loss': [0.06083070859313011,\n",
       "  0.008939027786254883,\n",
       "  0.0240191537886858,\n",
       "  0.003535144729539752,\n",
       "  0.01846609264612198,\n",
       "  0.006264660507440567,\n",
       "  0.003710085293278098,\n",
       "  0.0018395722145214677,\n",
       "  0.0029364260844886303,\n",
       "  0.005373204126954079],\n",
       " 'class_loss': [0.004243467468768358,\n",
       "  1.49011839312152e-06,\n",
       "  0.012389547191560268,\n",
       "  0.00012069572403561324,\n",
       "  8.165889084921218e-06,\n",
       "  0.003800752107053995,\n",
       "  2.7299502107780427e-05,\n",
       "  2.2531161448569037e-05,\n",
       "  4.8937312385533005e-05,\n",
       "  4.685134990722872e-05],\n",
       " 'regress_loss': [0.05870897322893143,\n",
       "  0.00893828272819519,\n",
       "  0.017824379727244377,\n",
       "  0.0034747968893498182,\n",
       "  0.018462009727954865,\n",
       "  0.004364284221082926,\n",
       "  0.00369643559679389,\n",
       "  0.0018283065874129534,\n",
       "  0.002911957446485758,\n",
       "  0.0053497785702347755],\n",
       " 'val_total_loss': [0.027356108650565147,\n",
       "  0.01765848509967327,\n",
       "  0.004493439570069313,\n",
       "  0.00939236767590046,\n",
       "  1.633669137954712,\n",
       "  0.008792918175458908,\n",
       "  1.7707445621490479,\n",
       "  0.002612058073282242,\n",
       "  0.0027197112794965506,\n",
       "  1.8192247152328491],\n",
       " 'val_class_loss': [9.803256398299709e-05,\n",
       "  1.853757567005232e-05,\n",
       "  0.0006004762253724039,\n",
       "  0.0003597852773964405,\n",
       "  2.192124843597412,\n",
       "  0.003425181843340397,\n",
       "  2.314762830734253,\n",
       "  2.8700127586489543e-05,\n",
       "  8.443501428700984e-05,\n",
       "  2.153749704360962],\n",
       " 'val_regress_loss': [0.027307093143463135,\n",
       "  0.017649216577410698,\n",
       "  0.004193201661109924,\n",
       "  0.009212475270032883,\n",
       "  0.5376067757606506,\n",
       "  0.007080327719449997,\n",
       "  0.6133632063865662,\n",
       "  0.002597708022221923,\n",
       "  0.0026774937286973,\n",
       "  0.7423498630523682]}"
      ]
     },
     "execution_count": 84,
     "metadata": {},
     "output_type": "execute_result"
    }
   ],
   "source": [
    "hist.history"
   ]
  },
  {
   "cell_type": "code",
   "execution_count": 85,
   "id": "d77975f6",
   "metadata": {},
   "outputs": [
    {
     "data": {
      "image/png": "[encoded data removed]",
      "text/plain": [
       "<Figure size 1440x360 with 3 Axes>"
      ]
     },
     "metadata": {
      "needs_background": "light"
     },
     "output_type": "display_data"
    }
   ],
   "source": [
    "fig, ax = plt.subplots(ncols=3, figsize=(20,5))\n",
    "\n",
    "ax[0].plot(hist.history['total_loss'], color='teal', label='loss')\n",
    "ax[0].plot(hist.history['val_total_loss'], color='orange', label='val loss')\n",
    "ax[0].title.set_text('Loss')\n",
    "ax[0].legend()\n",
    "\n",
    "ax[1].plot(hist.history['class_loss'], color='teal', label='class loss')\n",
    "ax[1].plot(hist.history['val_class_loss'], color='orange', label='val class loss')\n",
    "ax[1].title.set_text('Classification Loss')\n",
    "ax[1].legend()\n",
    "\n",
    "ax[2].plot(hist.history['regress_loss'], color='teal', label='regress loss')\n",
    "ax[2].plot(hist.history['val_regress_loss'], color='orange', label='val regress loss')\n",
    "ax[2].title.set_text('Regression Loss')\n",
    "ax[2].legend()\n",
    "\n",
    "plt.show()"
   ]
  },
  {
   "cell_type": "code",
   "execution_count": 92,
   "id": "6fadd66c",
   "metadata": {},
   "outputs": [],
   "source": [
    "test_data = test.as_numpy_iterator()"
   ]
  },
  {
   "cell_type": "code",
   "execution_count": 93,
   "id": "92e9f7da",
   "metadata": {},
   "outputs": [],
   "source": [
    "test_sample = test_data.next()"
   ]
  },
  {
   "cell_type": "code",
   "execution_count": 94,
   "id": "c1eb57f5",
   "metadata": {},
   "outputs": [
    {
     "name": "stdout",
     "output_type": "stream",
     "text": [
      "1/1 [==============================] - 0s 17ms/step\n"
     ]
    }
   ],
   "source": [
    "yhat = facetracker.predict(test_sample[0])"
   ]
  },
  {
   "cell_type": "code",
   "execution_count": 8,
   "id": "127dccb2",
   "metadata": {},
   "outputs": [],
   "source": [
    "fig, ax = plt.subplots(ncols=4, figsize=(20,20))\n",
    "for idx in range(4): \n",
    "    sample_image = test_sample[0][idx]\n",
    "    sample_coords = yhat[1][idx]\n",
    "    \n",
    "    if yhat[0][idx] > 0.9:\n",
    "        cv2.rectangle(sample_image, \n",
    "                      tuple(np.multiply(sample_coords[:2], [120,120]).astype(int)),\n",
    "                      tuple(np.multiply(sample_coords[2:], [120,120]).astype(int)), \n",
    "                            (255,0,0), 2)\n",
    "    \n",
    "    ax[idx].imshow(sample_image)"
   ]
  },
  {
   "cell_type": "code",
   "execution_count": 11,
   "id": "8670d950",
   "metadata": {},
   "outputs": [],
   "source": [
    "from tensorflow.keras.models import load_model\n",
    "import cv2\n",
    "import tensorflow as tf\n",
    "import numpy as np"
   ]
  },
  {
   "cell_type": "code",
   "execution_count": 12,
   "id": "0e0f6f9c",
   "metadata": {},
   "outputs": [],
   "source": [
    "#facetracker.save('facetracker.h5')"
   ]
  },
  {
   "cell_type": "code",
   "execution_count": 13,
   "id": "fa7c3219",
   "metadata": {},
   "outputs": [
    {
     "name": "stdout",
     "output_type": "stream",
     "text": [
      "WARNING:tensorflow:No training configuration found in the save file, so the model was *not* compiled. Compile it manually.\n"
     ]
    }
   ],
   "source": [
    "facetracker = load_model('facetracker.h5')"
   ]
  },
  {
   "cell_type": "code",
   "execution_count": 9,
   "id": "a5386a17",
   "metadata": {},
   "outputs": [],
   "source": [
    "cap = cv2.VideoCapture(0)\n",
    "while cap.isOpened():\n",
    "    _ , frame = cap.read()\n",
    "    frame = frame[50:500, 50:500,:]\n",
    "    \n",
    "    rgb = cv2.cvtColor(frame, cv2.COLOR_BGR2RGB)\n",
    "    resized = tf.image.resize(rgb, (120,120))\n",
    "    \n",
    "    yhat = facetracker.predict(np.expand_dims(resized/255,0))\n",
    "    sample_coords = yhat[1][0]\n",
    "    \n",
    "    if yhat[0] > 0.5: \n",
    "        # Controls the main rectangle\n",
    "        cv2.rectangle(frame, \n",
    "                      tuple(np.multiply(sample_coords[:2], [450,450]).astype(int)),\n",
    "                      tuple(np.multiply(sample_coords[2:], [450,450]).astype(int)), \n",
    "                            (255,0,0), 2)\n",
    "        # Controls the label rectangle\n",
    "        cv2.rectangle(frame, \n",
    "                      tuple(np.add(np.multiply(sample_coords[:2], [450,450]).astype(int), \n",
    "                                    [0,-30])),\n",
    "                      tuple(np.add(np.multiply(sample_coords[:2], [450,450]).astype(int),\n",
    "                                    [80,0])), \n",
    "                            (255,0,0), -1)\n",
    "        \n",
    "        # Controls the text rendered\n",
    "        cv2.putText(frame, 'face', tuple(np.add(np.multiply(sample_coords[:2], [450,450]).astype(int),\n",
    "                                               [0,-5])),\n",
    "                    cv2.FONT_HERSHEY_SIMPLEX, 1, (255,255,255), 2, cv2.LINE_AA)\n",
    "    \n",
    "    cv2.imshow('EyeTrack', frame)\n",
    "    \n",
    "    if cv2.waitKey(1) & 0xFF == ord('q'):\n",
    "        break\n",
    "cap.release()\n",
    "cv2.destroyAllWindows()"
   ]
  },
  {
   "cell_type": "code",
   "execution_count": null,
   "id": "12ea4399",
   "metadata": {},
   "outputs": [],
   "source": []
  }
 ],
 "metadata": {
  "kernelspec": {
   "display_name": "tf",
   "language": "python",
   "name": "tf"
  },
  "language_info": {
   "codemirror_mode": {
    "name": "ipython",
    "version": 3
   },
   "file_extension": ".py",
   "mimetype": "text/x-python",
   "name": "python",
   "nbconvert_exporter": "python",
   "pygments_lexer": "ipython3",
   "version": "3.8.8"
  }
 },
 "nbformat": 4,
 "nbformat_minor": 5
}
